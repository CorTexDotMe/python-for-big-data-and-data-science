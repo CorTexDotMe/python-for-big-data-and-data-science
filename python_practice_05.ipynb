{
 "nbformat": 4,
 "nbformat_minor": 0,
 "metadata": {
  "colab": {
   "provenance": []
  },
  "kernelspec": {
   "name": "python3",
   "language": "python",
   "display_name": "Python 3 (ipykernel)"
  },
  "language_info": {
   "name": "python"
  }
 },
 "cells": [
  {
   "cell_type": "markdown",
   "source": [
    "# I. OOP"
   ],
   "metadata": {
    "id": "5qV_sehzFCTp"
   }
  },
  {
   "cell_type": "markdown",
   "source": [
    "1. (6б). Створіть клас Animal, додайте три атрибути, один з яких має значення за замовчуванням та два методи на свій розсуд."
   ],
   "metadata": {
    "id": "tx_U_hOALyfg"
   }
  },
  {
   "cell_type": "code",
   "source": [
    "class Animal:\n",
    "    def __init__(self, species, weight, name=\"Cutie\" ):\n",
    "        self.species = species\n",
    "        self.weight = weight\n",
    "        self.name = name\n",
    "        \n",
    "    def get_weight(self):\n",
    "        return self.weight\n",
    "    \n",
    "    def print_weight(self):\n",
    "        print(f\"{self.name} weight is {self.weight}\")"
   ],
   "metadata": {
    "id": "-Vf895KaL88N",
    "ExecuteTime": {
     "end_time": "2024-03-09T08:58:26.401632Z",
     "start_time": "2024-03-09T08:58:26.382035Z"
    }
   },
   "execution_count": 2,
   "outputs": []
  },
  {
   "cell_type": "markdown",
   "source": [
    "2. (2б). Створіть два обʼєкти цього класу, де один з обʼєктів створюється із дефолтним значенням атрибуту. На одному обʼєкті отримайте значення його атрибуту, а на іншому викличте один з його методів."
   ],
   "metadata": {
    "id": "X_UlOMB0L93w"
   }
  },
  {
   "cell_type": "code",
   "source": [
    "dog = Animal(\"dog\", 15, \"Poo\")\n",
    "cat = Animal(\"cat\", 10)\n",
    "\n",
    "print(f\"{dog.name} species is {dog.species}\")\n",
    "cat.print_weight()"
   ],
   "metadata": {
    "id": "7gBu0ESOMCpG",
    "ExecuteTime": {
     "end_time": "2024-03-09T08:58:29.777574Z",
     "start_time": "2024-03-09T08:58:29.770565Z"
    }
   },
   "execution_count": 3,
   "outputs": [
    {
     "name": "stdout",
     "output_type": "stream",
     "text": [
      "Poo species is dog\n",
      "Cutie weight is 10\n"
     ]
    }
   ]
  },
  {
   "cell_type": "markdown",
   "source": [
    "3. (5б). Створіть клас, де атрибути мають різні рівні доступу. Спробуйте отримати їхні значення та опишіть результати."
   ],
   "metadata": {
    "id": "HoqSCZt1MHn5"
   }
  },
  {
   "cell_type": "code",
   "source": [
    "class Laptop:\n",
    "    def __init__(self, brand, cost, color):\n",
    "        self.brand = brand # public\n",
    "        self._cost = cost # protected\n",
    "        self.__color = color # private\n",
    "        \n",
    "macbook = Laptop(\"Apple\", 1000, \"Grey\")\n",
    "print(f\"Brand attribute is public, so we can access it: {macbook.brand}\")\n",
    "\n",
    "print(f\"\\nCost attribute is protected, so it should be accessed only inside the class and by classes that extends Laptop. However, we technically can access it: {macbook._cost}\")\n",
    "\n",
    "print(f\"\\nColor attribute is private, so we cannot access it outside of class. macbook.color call will cause AttributeError.\")\n",
    "print({macbook.__color})"
   ],
   "metadata": {
    "id": "r9b3vJxBMSPV",
    "ExecuteTime": {
     "end_time": "2024-03-09T08:58:33.619417Z",
     "start_time": "2024-03-09T08:58:32.562837Z"
    }
   },
   "execution_count": 4,
   "outputs": [
    {
     "name": "stdout",
     "output_type": "stream",
     "text": [
      "Brand attribute is public, so we can access it: Apple\n",
      "\n",
      "Cost attribute is protected, so it should be accessed only inside the class and by classes that extends Laptop. However, we technically can access it: 1000\n",
      "\n",
      "Color attribute is private, so we cannot access it outside of class. macbook.color call will cause AttributeError.\n"
     ]
    },
    {
     "ename": "AttributeError",
     "evalue": "'Laptop' object has no attribute '__color'",
     "output_type": "error",
     "traceback": [
      "\u001B[1;31m---------------------------------------------------------------------------\u001B[0m",
      "\u001B[1;31mAttributeError\u001B[0m                            Traceback (most recent call last)",
      "Cell \u001B[1;32mIn[4], line 13\u001B[0m\n\u001B[0;32m     10\u001B[0m \u001B[38;5;28mprint\u001B[39m(\u001B[38;5;124mf\u001B[39m\u001B[38;5;124m\"\u001B[39m\u001B[38;5;130;01m\\n\u001B[39;00m\u001B[38;5;124mCost attribute is protected, so it should be accessed only inside the class and by classes that extends Laptop. However, we technically can access it: \u001B[39m\u001B[38;5;132;01m{\u001B[39;00mmacbook\u001B[38;5;241m.\u001B[39m_cost\u001B[38;5;132;01m}\u001B[39;00m\u001B[38;5;124m\"\u001B[39m)\n\u001B[0;32m     12\u001B[0m \u001B[38;5;28mprint\u001B[39m(\u001B[38;5;124mf\u001B[39m\u001B[38;5;124m\"\u001B[39m\u001B[38;5;130;01m\\n\u001B[39;00m\u001B[38;5;124mColor attribute is private, so we cannot access it outside of class. macbook.color call will cause AttributeError.\u001B[39m\u001B[38;5;124m\"\u001B[39m)\n\u001B[1;32m---> 13\u001B[0m \u001B[38;5;28mprint\u001B[39m({\u001B[43mmacbook\u001B[49m\u001B[38;5;241;43m.\u001B[39;49m\u001B[43m__color\u001B[49m})\n",
      "\u001B[1;31mAttributeError\u001B[0m: 'Laptop' object has no attribute '__color'"
     ]
    }
   ]
  },
  {
   "cell_type": "markdown",
   "source": [
    "4. (7б). Як ви розумієте термін self? Для чого використовується метод __init __?"
   ],
   "metadata": {
    "id": "5op2m2vgMSkZ"
   }
  },
  {
   "cell_type": "markdown",
   "source": [
    "Під терміном об'єкт я розумію екземпляр класу.\n",
    "\n",
    "Self вказує на поточний об'єкт класу. Цей атрибут передається методам, щоб вони могли звертатися до атрибутів та методів цього об'єкту. У інших мовах програмування подібну логіку виконує ключове слово 'this'\n",
    "\n",
    " Метод \\_\\_init__ використовується для ініціалізації об'єкта на основі аргументів цього методу. Метод виступає конструктором об'єкта й автоматично викликається при його створенні. Метод може містити будь-яку логіку, зокрема ту, що не стосується ініціалізації атрибутів."
   ],
   "metadata": {
    "id": "DyiPqNRvMasx"
   }
  },
  {
   "cell_type": "markdown",
   "source": [
    "5. (9б). Створіть клас Фігура без атрибутів, з методом get_area для отримання площі фігури, що повертає 0 та __add __, який приймає self та other в якості аргументів, а повертає суму площин фігур self та other."
   ],
   "metadata": {
    "id": "-6X8EGfjMd2y"
   }
  },
  {
   "cell_type": "code",
   "source": [
    "class Figure:\n",
    "    def get_area(self):\n",
    "        return 0\n",
    "    \n",
    "    def __add__(self, other):\n",
    "        return self.get_area() + other.get_area()"
   ],
   "metadata": {
    "id": "4rvO_wYUMaEr",
    "ExecuteTime": {
     "end_time": "2024-03-09T08:58:37.568597Z",
     "start_time": "2024-03-09T08:58:37.551558Z"
    }
   },
   "execution_count": 5,
   "outputs": []
  },
  {
   "cell_type": "markdown",
   "source": [
    "6. (11б). Створіть 2 дочірніх класи від Фігури: Трикутник та Коло, які мають атрибути, необхідні для розрахунку площин. Визначте метод get_area в кожному з них так, щоби вони розраховували площу в залежності від формули для кожного типу фігури. Створіть обʼєкт класу Трикутник та обʼєкт класу Коло. Виконайте операцію суми за допомогою оператора + між ними."
   ],
   "metadata": {
    "id": "SFcKnnv5Mo_z"
   }
  },
  {
   "cell_type": "code",
   "source": [
    "import math\n",
    "\n",
    "class Triangle(Figure):\n",
    "    def __init__(self, base, height):\n",
    "        self.base = base\n",
    "        self.height = height\n",
    "\n",
    "    def get_area(self):\n",
    "        return 0.5 * self.base * self.height\n",
    "\n",
    "class Circle(Figure):\n",
    "    def __init__(self, radius):\n",
    "        self.radius = radius\n",
    "        \n",
    "    def get_area(self):\n",
    "        return math.pi * (self.radius ** 2)\n",
    "    \n",
    "triangle = Triangle(2, 5)\n",
    "circle = Circle(2)\n",
    "\n",
    "print(f\"Total area: {triangle + circle}\")"
   ],
   "metadata": {
    "id": "H3GVNr69Muf3",
    "ExecuteTime": {
     "end_time": "2024-03-09T08:58:40.959300Z",
     "start_time": "2024-03-09T08:58:40.939300Z"
    }
   },
   "execution_count": 6,
   "outputs": [
    {
     "name": "stdout",
     "output_type": "stream",
     "text": [
      "Total area: 17.566370614359172\n"
     ]
    }
   ]
  },
  {
   "cell_type": "markdown",
   "source": [
    "7. (3б). Продемонструйте різницю між isinstance та issubclass."
   ],
   "metadata": {
    "id": "HCvR206YMvLK"
   }
  },
  {
   "cell_type": "code",
   "source": [
    "class Car:\n",
    "    pass\n",
    "\n",
    "class ElectricCar(Car):\n",
    "    pass\n",
    "\n",
    "car = Car()\n",
    "electric_car = ElectricCar()\n",
    "\n",
    "print(\"isinstance checks if object is an instance of a particular class\")\n",
    "print(f\"car is instance of Car: {isinstance(car, Car)}\")\n",
    "print(f\"electric_car is instance of Car: {isinstance(electric_car, Car)}\")\n",
    "print(f\"electric_car is instance of ElectricCar: {isinstance(electric_car, ElectricCar)}\")\n",
    "\n",
    "print(\"\\nissubclass checks for inheritance. If object extends a particular class it becomes a subclass.\")\n",
    "print(f\"Car is subclass of ElectricCar: {issubclass(Car, ElectricCar)}\")\n",
    "print(f\"ElectricCar is subclass of Car: {issubclass(ElectricCar, Car)}\")"
   ],
   "metadata": {
    "id": "L_V1bBvDM0GN",
    "ExecuteTime": {
     "end_time": "2024-03-08T09:14:50.964288Z",
     "start_time": "2024-03-08T09:14:50.943242Z"
    }
   },
   "execution_count": 20,
   "outputs": [
    {
     "name": "stdout",
     "output_type": "stream",
     "text": [
      "isinstance checks if object is an instance of a particular class\n",
      "car is instance of Car: True\n",
      "electric_car is instance of Car: True\n",
      "electric_car is instance of ElectricCar: True\n",
      "\n",
      "issubclass checks for inheritance. If object extends a particular class it becomes a subclass\n",
      "Car is subclass of ElectricCar: False\n",
      "ElectricCar is subclass of Car: True\n"
     ]
    }
   ]
  },
  {
   "cell_type": "markdown",
   "source": [
    "8. (13б). Створіть клас BankAccount з приватними атрибутами balance та account_number. Реалізуйте методи поповнення та зняття коштів, забезпечивши належну інкапсуляцію. Підказка: використовуйте декоратори property та setter."
   ],
   "metadata": {
    "id": "jjsaBZ-iM0Qq"
   }
  },
  {
   "cell_type": "code",
   "source": [
    "class BankAccount:\n",
    "    def __init__(self, account_number, balance):\n",
    "        self.__account_number = account_number\n",
    "        self.__balance = balance\n",
    "    \n",
    "    @property\n",
    "    def balance(self):\n",
    "        return self.__balance\n",
    "\n",
    "    @balance.setter\n",
    "    def balance(self, new_balance):\n",
    "        if new_balance >= 0:\n",
    "            self.__balance = new_balance\n",
    "        else:\n",
    "            print(\"New balance must be positive\")\n",
    "    \n",
    "    def deposit(self, amount):\n",
    "        if amount > 0:\n",
    "            self.__balance += amount\n",
    "        else:\n",
    "            print(\"Amount must be positive\")\n",
    "    \n",
    "    def withdraw(self, amount):\n",
    "        if 0 < amount <= self.__balance:\n",
    "            self.__balance -= amount\n",
    "        else:\n",
    "            print(\"Amount must be positive and less than balance\")\n",
    "            \n",
    "account = BankAccount(1, 100)\n",
    "account.balance = -100 # this line prints error\n",
    "print(f\"Before deposit: {account.balance}\")\n",
    "account.deposit(1000)\n",
    "print(f\"After 'deposit' of 1000: {account.balance}\")\n",
    "account.withdraw(500)\n",
    "print(f\"After 'withdraw' of 500: {account.balance}\")"
   ],
   "metadata": {
    "id": "xCvZ7lh8M7YA",
    "ExecuteTime": {
     "end_time": "2024-03-09T09:36:48.348310Z",
     "start_time": "2024-03-09T09:36:48.332312Z"
    }
   },
   "execution_count": 18,
   "outputs": [
    {
     "name": "stdout",
     "output_type": "stream",
     "text": [
      "New balance must be positive\n",
      "Before deposit: 100\n",
      "After 'deposit' of 1000: 1100\n",
      "After 'withdraw' of 500: 600\n"
     ]
    }
   ]
  },
  {
   "cell_type": "markdown",
   "source": [
    "9. (11б). Створіть клас Library, який містить список об'єктів типу Book. Реалізуйте методи для додавання книги, видалення книги та відображення списку книг."
   ],
   "metadata": {
    "id": "tIzL2SJTM8ft"
   }
  },
  {
   "cell_type": "code",
   "source": [
    "class Book:\n",
    "    def __init__(self, title, author):\n",
    "        self.title = title\n",
    "        self.author = author\n",
    "    \n",
    "    def __str__(self):\n",
    "        return f\"{self.title} by {self.author}\"\n",
    "    \n",
    "class Library:\n",
    "    def __init__(self):\n",
    "        self.books = []\n",
    "        \n",
    "    def add_book(self, book):\n",
    "        self.books.append(book)\n",
    "        \n",
    "    def remove_book(self, book):\n",
    "        self.books.remove(book)\n",
    "    \n",
    "    def display_books(self):\n",
    "        print(\"Books in the library:\")\n",
    "        for book in self.books:\n",
    "            print(f\"- {book}\")\n",
    "\n",
    "library = Library()\n",
    "\n",
    "book1 = Book(\"The Great Gatsby\", \"F. Scott Fitzgerald\")\n",
    "book2 = Book(\"To Kill a Mockingbird\", \"Harper Lee\")\n",
    "library.add_book(book1)\n",
    "library.add_book(book2)\n",
    "\n",
    "library.display_books() \n",
    "library.remove_book(book1)\n",
    "\n",
    "print(\"\\nAfter removing 'The Great Gatsby' book:\")\n",
    "library.display_books()"
   ],
   "metadata": {
    "id": "HWxfJKLtNAUZ",
    "ExecuteTime": {
     "end_time": "2024-03-09T09:42:09.343519Z",
     "start_time": "2024-03-09T09:42:09.324457Z"
    }
   },
   "execution_count": 25,
   "outputs": [
    {
     "name": "stdout",
     "output_type": "stream",
     "text": [
      "Books in the library:\n",
      "- The Great Gatsby by F. Scott Fitzgerald\n",
      "- To Kill a Mockingbird by Harper Lee\n",
      "\n",
      "After removing 'The Great Gatsby' book:\n",
      "Books in the library:\n",
      "- To Kill a Mockingbird by Harper Lee\n"
     ]
    }
   ]
  },
  {
   "cell_type": "markdown",
   "source": [
    "10. (13б). Створіть клас Person з атрибутами name та age. Створіть ще один клас Employee з такими атрибутами, як department та salary. Створіть клас Manager, який успадковує обидва класи Person та Employee. Продемонструйте використання множинної спадковості, створивши обʼєкт класу Manager та отримавши mro для цього класу."
   ],
   "metadata": {
    "id": "lmV8pAwwNIqu"
   }
  },
  {
   "cell_type": "code",
   "source": [
    "class Person:\n",
    "    def __init__(self, name, age):\n",
    "        self.name = name\n",
    "        self.age = age\n",
    "    \n",
    "class Employee:\n",
    "    def __init__(self, department, salary):\n",
    "        self.department = department\n",
    "        self.salary = salary\n",
    "\n",
    "class Manager(Person, Employee):\n",
    "    def __init__(self, name, age, department, salary):\n",
    "        Person.__init__(self, name, age)\n",
    "        Employee.__init__(self, department, salary)\n",
    "\n",
    "manager = Manager(\"John Doe\", 40, \"IT\", 100000)\n",
    "print(f\"Name: {manager.name}, Age: {manager.age}, Department: {manager.department}, Salary: {manager.salary}\")\n",
    "\n",
    "print(f\"\\n Method Resolution Order: {Manager.mro()}\")"
   ],
   "metadata": {
    "id": "R49grKlWNPeN",
    "ExecuteTime": {
     "end_time": "2024-03-09T09:56:01.856689Z",
     "start_time": "2024-03-09T09:56:01.834653Z"
    }
   },
   "execution_count": 36,
   "outputs": [
    {
     "name": "stdout",
     "output_type": "stream",
     "text": [
      "Name: John Doe, Age: 40, Department: IT, Salary: 100000\n",
      "\n",
      " Method Resolution Order: [<class '__main__.Manager'>, <class '__main__.Person'>, <class '__main__.Employee'>, <class 'object'>]\n"
     ]
    }
   ]
  },
  {
   "cell_type": "markdown",
   "source": [
    "# II. Iterator"
   ],
   "metadata": {
    "id": "dIJyUiNBFG8G"
   }
  },
  {
   "cell_type": "markdown",
   "source": [
    "11. (4б). Визначте рядок(str) з 4ма різними за значенням символами. Створіть ітератор на основі цього рядка. Викличте 5 разів функцію next на ітераторі, 4ри перших з них огорніть у ф-цію print()."
   ],
   "metadata": {
    "id": "13vsm0NyKIzL"
   }
  },
  {
   "cell_type": "code",
   "source": [
    "my_str = \"aB1?\"\n",
    "string_iterator = iter(my_str)\n",
    "\n",
    "print(next(string_iterator))\n",
    "print(next(string_iterator))\n",
    "print(next(string_iterator))\n",
    "print(next(string_iterator))\n",
    "next(string_iterator)"
   ],
   "metadata": {
    "id": "81ntabAkKuz-",
    "ExecuteTime": {
     "end_time": "2024-03-09T09:59:16.019122Z",
     "start_time": "2024-03-09T09:59:15.980851Z"
    }
   },
   "execution_count": 37,
   "outputs": [
    {
     "name": "stdout",
     "output_type": "stream",
     "text": [
      "a\n",
      "B\n",
      "1\n",
      "?\n"
     ]
    },
    {
     "ename": "StopIteration",
     "evalue": "",
     "output_type": "error",
     "traceback": [
      "\u001B[1;31m---------------------------------------------------------------------------\u001B[0m",
      "\u001B[1;31mStopIteration\u001B[0m                             Traceback (most recent call last)",
      "Cell \u001B[1;32mIn[37], line 8\u001B[0m\n\u001B[0;32m      6\u001B[0m \u001B[38;5;28mprint\u001B[39m(\u001B[38;5;28mnext\u001B[39m(string_iterator))\n\u001B[0;32m      7\u001B[0m \u001B[38;5;28mprint\u001B[39m(\u001B[38;5;28mnext\u001B[39m(string_iterator))\n\u001B[1;32m----> 8\u001B[0m \u001B[38;5;28;43mnext\u001B[39;49m\u001B[43m(\u001B[49m\u001B[43mstring_iterator\u001B[49m\u001B[43m)\u001B[49m\n",
      "\u001B[1;31mStopIteration\u001B[0m: "
     ]
    }
   ]
  },
  {
   "cell_type": "markdown",
   "source": [
    "А що якщо викликати цю ж функцію на рядку?"
   ],
   "metadata": {
    "id": "aekWHGXOLRsO"
   }
  },
  {
   "cell_type": "code",
   "source": [
    "# Line prints error because string is not an iterator\n",
    "next(my_str)"
   ],
   "metadata": {
    "id": "mxATGsErLV1i",
    "ExecuteTime": {
     "end_time": "2024-03-09T10:19:26.120965Z",
     "start_time": "2024-03-09T10:19:26.090930Z"
    }
   },
   "execution_count": 40,
   "outputs": [
    {
     "ename": "TypeError",
     "evalue": "'str' object is not an iterator",
     "output_type": "error",
     "traceback": [
      "\u001B[1;31m---------------------------------------------------------------------------\u001B[0m",
      "\u001B[1;31mTypeError\u001B[0m                                 Traceback (most recent call last)",
      "Cell \u001B[1;32mIn[40], line 2\u001B[0m\n\u001B[0;32m      1\u001B[0m \u001B[38;5;66;03m# Line prints error because string is not an iterator\u001B[39;00m\n\u001B[1;32m----> 2\u001B[0m \u001B[38;5;28;43mnext\u001B[39;49m\u001B[43m(\u001B[49m\u001B[43mmy_str\u001B[49m\u001B[43m)\u001B[49m\n",
      "\u001B[1;31mTypeError\u001B[0m: 'str' object is not an iterator"
     ]
    }
   ]
  },
  {
   "cell_type": "markdown",
   "source": [
    " 12. (5б). Опишіть своїми словами в одному реченні, як ви розумієте різницю між ітерабельними обʼєктами та ітераторами (можна на прикладі)."
   ],
   "metadata": {
    "id": "XwtMEopwJ4pH"
   }
  },
  {
   "cell_type": "markdown",
   "source": [
    "Ітерабельним є об'єкт, елементи якого можна перебрати(проітерувати) у циклі чи за допомогою ітератора, а сам ітератор це об'єкт, який має метод next, щоб повернути наступний елемент, що забезпечує процес перебору. "
   ],
   "metadata": {
    "id": "-sHrODc3KFn8"
   }
  },
  {
   "cell_type": "markdown",
   "source": [
    "13. (11б). Створіть клас, що має визначений Iterator Protocol та при кожному виклику next повертає літери англійської абетки, поки вони не вичерпаються."
   ],
   "metadata": {
    "id": "E9qJWmNbK8Gl"
   }
  },
  {
   "cell_type": "code",
   "source": [
    "class AlphabetIterator:\n",
    "    def __init__(self):\n",
    "        self.current_char = ord('a')\n",
    "        \n",
    "    def __iter__(self):\n",
    "        return self\n",
    "    \n",
    "    def __next__(self):\n",
    "        if self.current_char <= ord('z'):\n",
    "            last_char = chr(self.current_char)\n",
    "            self.current_char += 1\n",
    "            return last_char\n",
    "        else:\n",
    "            raise StopIteration()\n",
    "\n",
    "alphabet = AlphabetIterator()\n",
    "for _ in range(27):\n",
    "    print(next(alphabet))"
   ],
   "metadata": {
    "id": "cqx-g_RsLo6I",
    "ExecuteTime": {
     "end_time": "2024-03-09T10:25:46.170223Z",
     "start_time": "2024-03-09T10:25:46.123350Z"
    }
   },
   "execution_count": 47,
   "outputs": [
    {
     "name": "stdout",
     "output_type": "stream",
     "text": [
      "a\n",
      "b\n",
      "c\n",
      "d\n",
      "e\n",
      "f\n",
      "g\n",
      "h\n",
      "i\n",
      "j\n",
      "k\n",
      "l\n",
      "m\n",
      "n\n",
      "o\n",
      "p\n",
      "q\n",
      "r\n",
      "s\n",
      "t\n",
      "u\n",
      "v\n",
      "w\n",
      "x\n",
      "y\n",
      "z\n"
     ]
    },
    {
     "ename": "StopIteration",
     "evalue": "",
     "output_type": "error",
     "traceback": [
      "\u001B[1;31m---------------------------------------------------------------------------\u001B[0m",
      "\u001B[1;31mStopIteration\u001B[0m                             Traceback (most recent call last)",
      "Cell \u001B[1;32mIn[47], line 18\u001B[0m\n\u001B[0;32m     16\u001B[0m alphabet \u001B[38;5;241m=\u001B[39m AlphabetIterator()\n\u001B[0;32m     17\u001B[0m \u001B[38;5;28;01mfor\u001B[39;00m _ \u001B[38;5;129;01min\u001B[39;00m \u001B[38;5;28mrange\u001B[39m(\u001B[38;5;241m27\u001B[39m):\n\u001B[1;32m---> 18\u001B[0m     \u001B[38;5;28mprint\u001B[39m(\u001B[38;5;28;43mnext\u001B[39;49m\u001B[43m(\u001B[49m\u001B[43malphabet\u001B[49m\u001B[43m)\u001B[49m)\n",
      "Cell \u001B[1;32mIn[47], line 14\u001B[0m, in \u001B[0;36mAlphabetIterator.__next__\u001B[1;34m(self)\u001B[0m\n\u001B[0;32m     12\u001B[0m     \u001B[38;5;28;01mreturn\u001B[39;00m last_char\n\u001B[0;32m     13\u001B[0m \u001B[38;5;28;01melse\u001B[39;00m:\n\u001B[1;32m---> 14\u001B[0m     \u001B[38;5;28;01mraise\u001B[39;00m \u001B[38;5;167;01mStopIteration\u001B[39;00m()\n",
      "\u001B[1;31mStopIteration\u001B[0m: "
     ]
    }
   ]
  },
  {
   "cell_type": "markdown",
   "source": [
    "# Вітаю! Ви велика(ий) молодець, що впоралась(вся). Похваліть себе та побалуйте чимось приємним. Я Вами пишаюся."
   ],
   "metadata": {
    "id": "Z3E3S_s1Fv7-"
   }
  }
 ]
}
